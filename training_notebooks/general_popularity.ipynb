{
 "cells": [
  {
   "cell_type": "markdown",
   "metadata": {},
   "source": [
    "# General popularity"
   ]
  },
  {
   "cell_type": "markdown",
   "metadata": {},
   "source": [
    "### Libraries"
   ]
  },
  {
   "cell_type": "code",
   "execution_count": 1,
   "metadata": {},
   "outputs": [],
   "source": [
    "import pandas as pd\n",
    "from sklearn.preprocessing import MinMaxScaler\n",
    "import os"
   ]
  },
  {
   "cell_type": "markdown",
   "metadata": {},
   "source": [
    "### Load datasets"
   ]
  },
  {
   "cell_type": "code",
   "execution_count": 2,
   "metadata": {},
   "outputs": [],
   "source": [
    "# Load csv\n",
    "df = pd.read_csv(\"proceded.csv\") "
   ]
  },
  {
   "cell_type": "markdown",
   "metadata": {},
   "source": [
    "#### Convert string comma-separated to lists"
   ]
  },
  {
   "cell_type": "code",
   "execution_count": null,
   "metadata": {},
   "outputs": [],
   "source": [
    "# Split each comma-separated column into lists\n",
    "df['history'] = df['history'].str.split(',')\n",
    "df['timestampHistory'] = df['timestampHistory'].str.split(',')\n",
    "df['numberOfClicksHistory'] = df['numberOfClicksHistory'].str.split(',')\n",
    "df['timeOnPageHistory'] = df['timeOnPageHistory'].str.split(',')\n",
    "df['scrollPercentageHistory'] = df['scrollPercentageHistory'].str.split(',')\n",
    "df['pageVisitsCountHistory'] = df['pageVisitsCountHistory'].str.split(',')\n",
    "df['timestampHistory_new'] = df['timestampHistory_new'].str.split(',')\n",
    "df.head()\n"
   ]
  },
  {
   "cell_type": "markdown",
   "metadata": {},
   "source": [
    "#### Explode the dataset using list collumns"
   ]
  },
  {
   "cell_type": "code",
   "execution_count": null,
   "metadata": {},
   "outputs": [],
   "source": [
    "# Explode all columns, so that each history gets its own row with the corresponding metrics\n",
    "df_exploded = df.explode(['history','timestampHistory','numberOfClicksHistory','timeOnPageHistory','scrollPercentageHistory','pageVisitsCountHistory','timestampHistory_new'])\n",
    "df_exploded.head()"
   ]
  },
  {
   "cell_type": "markdown",
   "metadata": {},
   "source": [
    "##### Convert the relevant columns to numeric values (in case they're still strings)"
   ]
  },
  {
   "cell_type": "code",
   "execution_count": null,
   "metadata": {},
   "outputs": [],
   "source": [
    "\n",
    "df_exploded['numberOfClicksHistory'] = pd.to_numeric(df_exploded['numberOfClicksHistory'], errors='coerce')\n",
    "df_exploded['timeOnPageHistory'] = pd.to_numeric(df_exploded['timeOnPageHistory'], errors='coerce')\n",
    "df_exploded['scrollPercentageHistory'] = pd.to_numeric(df_exploded['scrollPercentageHistory'], errors='coerce')\n",
    "df_exploded['pageVisitsCountHistory'] = pd.to_numeric(df_exploded['pageVisitsCountHistory'], errors='coerce')\n",
    "\n",
    "df_exploded.head()\n"
   ]
  },
  {
   "cell_type": "markdown",
   "metadata": {},
   "source": [
    "#### Group dataset by \"history\" and aggregate metrics for each history"
   ]
  },
  {
   "cell_type": "code",
   "execution_count": null,
   "metadata": {},
   "outputs": [],
   "source": [
    "grouped = df_exploded.groupby('history').agg({\n",
    "    'numberOfClicksHistory': 'sum',    # Total number of clicks\n",
    "    'timeOnPageHistory': 'mean',       # Average time on page\n",
    "    'scrollPercentageHistory': 'mean', # Average scroll percentage\n",
    "    'pageVisitsCountHistory': 'sum'    # Total page visits\n",
    "}).reset_index()\n",
    "\n",
    "grouped"
   ]
  },
  {
   "cell_type": "code",
   "execution_count": 8,
   "metadata": {},
   "outputs": [],
   "source": [
    "grouped.to_parquet(\"general_recommendation.parquet\")"
   ]
  },
  {
   "cell_type": "markdown",
   "metadata": {},
   "source": [
    "##### Calculate popularity"
   ]
  },
  {
   "cell_type": "markdown",
   "metadata": {},
   "source": [
    "Popularity = (alpha * (num_clicks)) + (beta * (time_on_page) + (delta * (page_visits)) + (gamma * (scroll_percent))) "
   ]
  },
  {
   "cell_type": "code",
   "execution_count": null,
   "metadata": {},
   "outputs": [],
   "source": [
    "\n",
    "\n",
    "# Define the weights for the popularity score\n",
    "alpha = 0.1  # Weight for clicks\n",
    "beta = 0.3   # Weight for time on page\n",
    "gamma = 0.4  # Weight for scroll percentage\n",
    "delta = 0.2  # Weight for page visits\n",
    "\n",
    "# Calculate the popularity score\n",
    "grouped['popularity_score'] = (\n",
    "    alpha * grouped['numberOfClicksHistory'] +\n",
    "    beta * grouped['timeOnPageHistory'] +\n",
    "    gamma * grouped['scrollPercentageHistory'] +\n",
    "    delta * grouped['pageVisitsCountHistory']\n",
    ")\n",
    "\n",
    "# Sort histories by popularity score in descending order\n",
    "grouped_sorted = grouped.sort_values(by='popularity_score', ascending=False)\n",
    "\n",
    "# Recommend top N histories\n",
    "top_n = 10  # Number of recommendations\n",
    "recommendations = grouped_sorted.head(top_n)\n",
    "\n",
    "\n",
    "grouped_sorted.head()\n"
   ]
  },
  {
   "cell_type": "markdown",
   "metadata": {},
   "source": []
  }
 ],
 "metadata": {
  "kernelspec": {
   "display_name": "Python 3",
   "language": "python",
   "name": "python3"
  },
  "language_info": {
   "codemirror_mode": {
    "name": "ipython",
    "version": 3
   },
   "file_extension": ".py",
   "mimetype": "text/x-python",
   "name": "python",
   "nbconvert_exporter": "python",
   "pygments_lexer": "ipython3",
   "version": "3.9.6"
  }
 },
 "nbformat": 4,
 "nbformat_minor": 2
}
