{
 "cells": [
  {
   "cell_type": "markdown",
   "metadata": {},
   "source": [
    "#### Content Based Recommendation"
   ]
  },
  {
   "cell_type": "markdown",
   "metadata": {},
   "source": [
    "#### import data"
   ]
  },
  {
   "cell_type": "code",
   "execution_count": 3,
   "metadata": {},
   "outputs": [],
   "source": [
    "import pandas as pd\n",
    "\n",
    "# Load csv\n",
    "df_user_acc = pd.read_csv(\"proceded.csv\") \n"
   ]
  },
  {
   "cell_type": "code",
   "execution_count": 4,
   "metadata": {},
   "outputs": [],
   "source": [
    "df_user_acc['history'] = df_user_acc['history'].astype(str).apply(lambda x: x.split(', '))\n",
    "df_user_acc['article_types'] = df_user_acc['article_types'].astype(str).apply(lambda x: x.split(',') if x != 'nan' else [])"
   ]
  },
  {
   "cell_type": "code",
   "execution_count": 5,
   "metadata": {},
   "outputs": [],
   "source": [
    "# Function to recommend articles\n",
    "def recommend_content_based(user_id, users_data, articles_data):\n",
    "    # Get user data\n",
    "    user_row = users_data[users_data['userId'] == user_id]\n",
    "    if user_row.empty:\n",
    "        return []\n",
    "    \n",
    "    # Extract user preferences\n",
    "    user_history = set(user_row['history'].iloc[0])  # Articles already read\n",
    "    user_article_types = set(user_row['article_types'].iloc[0])  # User's interests\n",
    "    \n",
    "    # Filter articles the user hasn't read\n",
    "    potential_articles = articles_data[~articles_data['page'].isin(user_history)]\n",
    "    \n",
    "    # Recommend articles that match the user's preferred types\n",
    "    recommendations = potential_articles[potential_articles['article-type'].isin(user_article_types)]\n",
    "    \n",
    "    # Sort recommendations by the 'modified' column (most recent first)\n",
    "    recommendations = recommendations.sort_values(by='modified', ascending=False)\n",
    "    \n",
    "    # Return recommended articles\n",
    "    return recommendations[['page', 'url', 'article-type']].to_dict(orient='records')\n",
    "\n",
    "\n"
   ]
  }
 ],
 "metadata": {
  "kernelspec": {
   "display_name": "Python 3",
   "language": "python",
   "name": "python3"
  },
  "language_info": {
   "codemirror_mode": {
    "name": "ipython",
    "version": 3
   },
   "file_extension": ".py",
   "mimetype": "text/x-python",
   "name": "python",
   "nbconvert_exporter": "python",
   "pygments_lexer": "ipython3",
   "version": "3.9.6"
  }
 },
 "nbformat": 4,
 "nbformat_minor": 2
}
